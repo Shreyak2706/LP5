{
 "cells": [
  {
   "cell_type": "code",
   "execution_count": 2,
   "id": "c6d87ffd-2780-4ad6-8a60-cbdf8c985520",
   "metadata": {},
   "outputs": [],
   "source": [
    "import keras"
   ]
  },
  {
   "cell_type": "code",
   "execution_count": 3,
   "id": "b8c2f7f6-12ae-41df-a852-1d9f382b488b",
   "metadata": {},
   "outputs": [],
   "source": [
    "from keras.datasets import imdb"
   ]
  },
  {
   "cell_type": "code",
   "execution_count": 4,
   "id": "b7d6eb62-cbd4-4944-afbf-b58fc68a8179",
   "metadata": {},
   "outputs": [],
   "source": [
    "(train_data, train_labels),(test_data, test_labels) = imdb.load_data(num_words=10000)"
   ]
  },
  {
   "cell_type": "code",
   "execution_count": 5,
   "id": "fe0871cf-b53e-4c7a-b35a-f7ca8ed218fc",
   "metadata": {},
   "outputs": [
    {
     "data": {
      "text/plain": [
       "1"
      ]
     },
     "execution_count": 5,
     "metadata": {},
     "output_type": "execute_result"
    }
   ],
   "source": [
    "train_data[0][0]"
   ]
  },
  {
   "cell_type": "code",
   "execution_count": 6,
   "id": "cbaa710d-dade-4718-a073-9ee5d3162bb1",
   "metadata": {},
   "outputs": [],
   "source": [
    "word_index = imdb.get_word_index()\n",
    "reverse_word_index = dict([(value, key) for (key, value) in word_index.items()])\n",
    "decoded_review = ' '.join([reverse_word_index.get(i - 3 , '.') for i in train_data[0]])"
   ]
  },
  {
   "cell_type": "code",
   "execution_count": 7,
   "id": "b14b267a-e64a-419b-8546-1b775cc2ae92",
   "metadata": {},
   "outputs": [
    {
     "data": {
      "text/plain": [
       "\". this film was just brilliant casting location scenery story direction everyone's really suited the part they played and you could just imagine being there robert . is an amazing actor and now the same being director . father came from the same scottish island as myself so i loved the fact there was a real connection with this film the witty remarks throughout the film were great it was just brilliant so much that i bought the film as soon as it was released for . and would recommend it to everyone to watch and the fly fishing was amazing really cried at the end it was so sad and you know what they say if you cry at a film it must have been good and this definitely was also . to the two little boy's that played the . of norman and paul they were just brilliant children are often left out of the . list i think because the stars that play them all grown up are such a big profile for the whole film but these children are amazing and should be praised for what they have done don't you think the whole story was so lovely because it was true and was someone's life after all that was shared with us all\""
      ]
     },
     "execution_count": 7,
     "metadata": {},
     "output_type": "execute_result"
    }
   ],
   "source": [
    "decoded_review"
   ]
  },
  {
   "cell_type": "code",
   "execution_count": 8,
   "id": "f809ae62-3196-40ea-bea1-b26819436899",
   "metadata": {},
   "outputs": [
    {
     "data": {
      "text/plain": [
       "25000"
      ]
     },
     "execution_count": 8,
     "metadata": {},
     "output_type": "execute_result"
    }
   ],
   "source": [
    "len(train_data)"
   ]
  },
  {
   "cell_type": "code",
   "execution_count": 9,
   "id": "65662b00-3fc4-4358-ad78-abfbc69ce8e9",
   "metadata": {},
   "outputs": [
    {
     "data": {
      "text/plain": [
       "25000"
      ]
     },
     "execution_count": 9,
     "metadata": {},
     "output_type": "execute_result"
    }
   ],
   "source": [
    "len(test_data)"
   ]
  },
  {
   "cell_type": "code",
   "execution_count": 10,
   "id": "a5efe539-6d91-4585-99dc-dd4cf05b8f71",
   "metadata": {},
   "outputs": [
    {
     "data": {
      "text/plain": [
       "25000"
      ]
     },
     "execution_count": 10,
     "metadata": {},
     "output_type": "execute_result"
    }
   ],
   "source": [
    "len(train_labels)"
   ]
  },
  {
   "cell_type": "code",
   "execution_count": 11,
   "id": "d889cf32-52c6-4d0d-bdc8-c0ffc96a765c",
   "metadata": {},
   "outputs": [
    {
     "data": {
      "text/plain": [
       "25000"
      ]
     },
     "execution_count": 11,
     "metadata": {},
     "output_type": "execute_result"
    }
   ],
   "source": [
    "len(test_labels)"
   ]
  },
  {
   "cell_type": "code",
   "execution_count": 12,
   "id": "f048ea5c-6db4-4463-b2b2-470f62660f6d",
   "metadata": {},
   "outputs": [
    {
     "data": {
      "text/plain": [
       "<enumerate at 0x7f1e65d34c80>"
      ]
     },
     "execution_count": 12,
     "metadata": {},
     "output_type": "execute_result"
    }
   ],
   "source": [
    "enumerate(train_data)"
   ]
  },
  {
   "cell_type": "code",
   "execution_count": 13,
   "id": "59dd2a83-b1e7-405d-928b-32bb30cd8a95",
   "metadata": {},
   "outputs": [],
   "source": [
    "import numpy as np\n",
    "\n",
    "def vectorize_sequences(sequences, dimension=10000):\n",
    "    # Create an all-zero matrix of shape (len(sequences), dimension)\n",
    "    results = np.zeros((len(sequences), dimension))\n",
    "    for i, sequence in enumerate(sequences):\n",
    "        results[i, sequence] = 1.  # set specific indices of results[i] to 1s\n",
    "    return results\n",
    "\n",
    "# Our vectorized training data\n",
    "x_train = vectorize_sequences(train_data)\n",
    "# Our vectorized test data\n",
    "x_test = vectorize_sequences(test_data)"
   ]
  },
  {
   "cell_type": "code",
   "execution_count": 14,
   "id": "d04164c6-4792-42bb-b00c-59002a5d7eb3",
   "metadata": {},
   "outputs": [
    {
     "data": {
      "text/plain": [
       "array([0., 1., 1., ..., 0., 0., 0.])"
      ]
     },
     "execution_count": 14,
     "metadata": {},
     "output_type": "execute_result"
    }
   ],
   "source": [
    "x_train[0]"
   ]
  },
  {
   "cell_type": "code",
   "execution_count": 15,
   "id": "71ebf49d-187f-4a1c-ab36-e5a6d35a616e",
   "metadata": {},
   "outputs": [],
   "source": [
    "y_train = np.asarray(train_labels).astype('float32')\n",
    "y_test = np.asarray(test_labels).astype('float32')"
   ]
  },
  {
   "cell_type": "code",
   "execution_count": 16,
   "id": "efb4c19c-09ea-4dec-91dc-93ab0dd86394",
   "metadata": {},
   "outputs": [
    {
     "data": {
      "text/plain": [
       "(25000, 10000)"
      ]
     },
     "execution_count": 16,
     "metadata": {},
     "output_type": "execute_result"
    }
   ],
   "source": [
    "x_train.shape"
   ]
  },
  {
   "cell_type": "code",
   "execution_count": 17,
   "id": "c13706a0-ce94-430e-98d8-bc9ca1c484ab",
   "metadata": {},
   "outputs": [
    {
     "data": {
      "text/plain": [
       "25000"
      ]
     },
     "execution_count": 17,
     "metadata": {},
     "output_type": "execute_result"
    }
   ],
   "source": [
    "len(x_train)"
   ]
  },
  {
   "cell_type": "code",
   "execution_count": 18,
   "id": "31ead77c-8a58-4637-9380-a1479c4832db",
   "metadata": {},
   "outputs": [
    {
     "data": {
      "text/plain": [
       "numpy.ndarray"
      ]
     },
     "execution_count": 18,
     "metadata": {},
     "output_type": "execute_result"
    }
   ],
   "source": [
    "type(x_train)"
   ]
  },
  {
   "cell_type": "code",
   "execution_count": 21,
   "id": "259f0b29-c499-425e-9a51-d1215605d129",
   "metadata": {},
   "outputs": [],
   "source": [
    "from keras import models\n",
    "from keras import layers\n",
    "\n",
    "model = models.Sequential()\n",
    "model.add(layers.Dense(16, activation='relu', input_shape=(10000,)))\n",
    "model.add(layers.Dense(16, activation='relu'))\n",
    "model.add(layers.Dense(1, activation='sigmoid'))"
   ]
  },
  {
   "cell_type": "code",
   "execution_count": 22,
   "id": "3325b95a-eba6-4492-904d-6e24386fa1d4",
   "metadata": {},
   "outputs": [],
   "source": [
    "model.compile(optimizer='rmsprop',\n",
    "              loss='binary_crossentropy',\n",
    "              metrics=['accuracy'])"
   ]
  },
  {
   "cell_type": "code",
   "execution_count": 23,
   "id": "50aa76c2-aa68-455a-a688-e748b0797d3a",
   "metadata": {},
   "outputs": [],
   "source": [
    "x_val = x_train[:12000]\n",
    "partial_x_train = x_train[12000:]\n",
    "\n",
    "y_val = y_train[:12000]\n",
    "partial_y_train = y_train[12000:]"
   ]
  },
  {
   "cell_type": "code",
   "execution_count": 24,
   "id": "e243f60b-dc19-42b2-9fe0-1e24a925a513",
   "metadata": {},
   "outputs": [
    {
     "name": "stdout",
     "output_type": "stream",
     "text": [
      "Epoch 1/20\n",
      "26/26 [==============================] - 1s 34ms/step - loss: 0.5747 - accuracy: 0.7459 - val_loss: 0.4589 - val_accuracy: 0.8322\n",
      "Epoch 2/20\n",
      "26/26 [==============================] - 0s 11ms/step - loss: 0.3681 - accuracy: 0.8825 - val_loss: 0.3569 - val_accuracy: 0.8640\n",
      "Epoch 3/20\n",
      "26/26 [==============================] - 0s 12ms/step - loss: 0.2739 - accuracy: 0.9111 - val_loss: 0.3087 - val_accuracy: 0.8814\n",
      "Epoch 4/20\n",
      "26/26 [==============================] - 0s 11ms/step - loss: 0.2185 - accuracy: 0.9296 - val_loss: 0.2853 - val_accuracy: 0.8878\n",
      "Epoch 5/20\n",
      "26/26 [==============================] - 0s 12ms/step - loss: 0.1792 - accuracy: 0.9428 - val_loss: 0.2828 - val_accuracy: 0.8862\n",
      "Epoch 6/20\n",
      "26/26 [==============================] - 0s 11ms/step - loss: 0.1504 - accuracy: 0.9530 - val_loss: 0.2868 - val_accuracy: 0.8836\n",
      "Epoch 7/20\n",
      "26/26 [==============================] - 0s 11ms/step - loss: 0.1290 - accuracy: 0.9603 - val_loss: 0.3077 - val_accuracy: 0.8763\n",
      "Epoch 8/20\n",
      "26/26 [==============================] - 0s 11ms/step - loss: 0.1104 - accuracy: 0.9665 - val_loss: 0.3064 - val_accuracy: 0.8836\n",
      "Epoch 9/20\n",
      "26/26 [==============================] - 0s 11ms/step - loss: 0.0948 - accuracy: 0.9732 - val_loss: 0.3163 - val_accuracy: 0.8824\n",
      "Epoch 10/20\n",
      "26/26 [==============================] - 0s 11ms/step - loss: 0.0846 - accuracy: 0.9770 - val_loss: 0.3317 - val_accuracy: 0.8785\n",
      "Epoch 11/20\n",
      "26/26 [==============================] - 0s 11ms/step - loss: 0.0695 - accuracy: 0.9838 - val_loss: 0.3487 - val_accuracy: 0.8777\n",
      "Epoch 12/20\n",
      "26/26 [==============================] - 0s 11ms/step - loss: 0.0617 - accuracy: 0.9864 - val_loss: 0.3744 - val_accuracy: 0.8768\n",
      "Epoch 13/20\n",
      "26/26 [==============================] - 0s 11ms/step - loss: 0.0533 - accuracy: 0.9885 - val_loss: 0.4029 - val_accuracy: 0.8731\n",
      "Epoch 14/20\n",
      "26/26 [==============================] - 0s 11ms/step - loss: 0.0433 - accuracy: 0.9915 - val_loss: 0.4035 - val_accuracy: 0.8744\n",
      "Epoch 15/20\n",
      "26/26 [==============================] - 0s 11ms/step - loss: 0.0362 - accuracy: 0.9942 - val_loss: 0.4252 - val_accuracy: 0.8737\n",
      "Epoch 16/20\n",
      "26/26 [==============================] - 0s 11ms/step - loss: 0.0306 - accuracy: 0.9958 - val_loss: 0.4525 - val_accuracy: 0.8737\n",
      "Epoch 17/20\n",
      "26/26 [==============================] - 0s 11ms/step - loss: 0.0276 - accuracy: 0.9957 - val_loss: 0.4652 - val_accuracy: 0.8724\n",
      "Epoch 18/20\n",
      "26/26 [==============================] - 0s 11ms/step - loss: 0.0259 - accuracy: 0.9953 - val_loss: 0.4907 - val_accuracy: 0.8708\n",
      "Epoch 19/20\n",
      "26/26 [==============================] - 0s 11ms/step - loss: 0.0157 - accuracy: 0.9990 - val_loss: 0.5152 - val_accuracy: 0.8651\n",
      "Epoch 20/20\n",
      "26/26 [==============================] - 0s 9ms/step - loss: 0.0182 - accuracy: 0.9970 - val_loss: 0.5335 - val_accuracy: 0.8683\n"
     ]
    }
   ],
   "source": [
    "history = model.fit(partial_x_train,\n",
    "                    partial_y_train,\n",
    "                    epochs=20,\n",
    "                    batch_size=512,\n",
    "                    validation_data=(x_val, y_val))"
   ]
  },
  {
   "cell_type": "code",
   "execution_count": 25,
   "id": "1195941a-4d6b-4f79-8c94-84583f410ead",
   "metadata": {},
   "outputs": [
    {
     "name": "stdout",
     "output_type": "stream",
     "text": [
      "782/782 [==============================] - 0s 439us/step\n"
     ]
    },
    {
     "data": {
      "text/plain": [
       "array([[0.01963704],\n",
       "       [0.9999995 ],\n",
       "       [0.99427855],\n",
       "       ...,\n",
       "       [0.00398545],\n",
       "       [0.00644996],\n",
       "       [0.9820396 ]], dtype=float32)"
      ]
     },
     "execution_count": 25,
     "metadata": {},
     "output_type": "execute_result"
    }
   ],
   "source": [
    "model.predict(x_test)"
   ]
  },
  {
   "cell_type": "code",
   "execution_count": 30,
   "id": "15c5198f-f858-45bc-a59c-f945b303ff27",
   "metadata": {},
   "outputs": [
    {
     "data": {
      "text/plain": [
       "dict_keys(['loss', 'accuracy', 'val_loss', 'val_accuracy'])"
      ]
     },
     "execution_count": 30,
     "metadata": {},
     "output_type": "execute_result"
    }
   ],
   "source": [
    "history_dict = history.history\n",
    "history_dict.keys()"
   ]
  },
  {
   "cell_type": "code",
   "execution_count": 31,
   "id": "9e96ecba-21f1-46c6-bfaa-bcd1fddad3e0",
   "metadata": {},
   "outputs": [],
   "source": [
    "import matplotlib.pyplot as plt\n",
    "%matplotlib inline"
   ]
  },
  {
   "cell_type": "code",
   "execution_count": 32,
   "id": "43ae39be-a3ac-4f63-aa7b-dbfb5c9a07f6",
   "metadata": {},
   "outputs": [
    {
     "data": {
      "image/png": "[encoded data removed]",
      "text/plain": [
       "<Figure size 640x480 with 1 Axes>"
      ]
     },
     "metadata": {},
     "output_type": "display_data"
    }
   ],
   "source": [
    "loss_values = history_dict['loss']\n",
    "val_loss_values = history_dict['val_loss']\n",
    "\n",
    "epochs = range(1, len(loss_values) + 1)\n",
    "\n",
    "plt.plot(epochs, loss_values, 'bo', label=\"Training Loss\")\n",
    "plt.plot(epochs, val_loss_values, 'b', label=\"Validation Loss\")\n",
    "\n",
    "plt.title('Training and Validation Loss')\n",
    "plt.xlabel('Epochs')\n",
    "plt.ylabel('Loss Value')\n",
    "plt.legend()\n",
    "\n",
    "plt.show()"
   ]
  },
  {
   "cell_type": "code",
   "execution_count": 36,
   "id": "6bd90bcd-c65a-4d59-9719-f3bb2ae1b0f5",
   "metadata": {},
   "outputs": [
    {
     "data": {
      "image/png": "[encoded data removed]",
      "text/plain": [
       "<Figure size 640x480 with 1 Axes>"
      ]
     },
     "metadata": {},
     "output_type": "display_data"
    }
   ],
   "source": [
    "plt.clf() #Clears the figure \n",
    "acc_values = history_dict['accuracy'] \n",
    "val_acc_values = history_dict['val_accuracy'] \n",
    "plt.plot(epochs, acc_values, 'bo', label='Training acc') \n",
    "plt.plot(epochs, val_acc_values, 'b', label='Validation acc') \n",
    "plt.title('Training and validation accuracy') \n",
    "plt.xlabel('Epochs') \n",
    "plt.ylabel('Loss') \n",
    "plt.legend() \n",
    "plt.show()"
   ]
  },
  {
   "cell_type": "code",
   "execution_count": null,
   "id": "f4122b6a-4546-4a33-8dcc-a285b93ab765",
   "metadata": {},
   "outputs": [],
   "source": []
  }
 ],
 "metadata": {
  "kernelspec": {
   "display_name": "Python 3 (ipykernel)",
   "language": "python",
   "name": "python3"
  },
  "language_info": {
   "codemirror_mode": {
    "name": "ipython",
    "version": 3
   },
   "file_extension": ".py",
   "mimetype": "text/x-python",
   "name": "python",
   "nbconvert_exporter": "python",
   "pygments_lexer": "ipython3",
   "version": "3.8.10"
  }
 },
 "nbformat": 4,
 "nbformat_minor": 5
}
