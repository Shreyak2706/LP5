{
 "cells": [
  {
   "cell_type": "code",
   "execution_count": 1,
   "id": "8e8b92a9-1410-4443-8c84-cd0ae2b05f11",
   "metadata": {},
   "outputs": [],
   "source": [
    "import pandas as pd\n",
    "import numpy as np\n",
    "import matplotlib.pyplot as plt\n",
    "from sklearn.model_selection import train_test_split\n",
    "from sklearn.preprocessing import LabelEncoder\n",
    "import seaborn as sns"
   ]
  },
  {
   "cell_type": "code",
   "execution_count": 5,
   "id": "4bfc6c88-5190-4f8c-bb31-14d65d9a449c",
   "metadata": {},
   "outputs": [],
   "source": [
    "# Load the dataset\n",
    "url = \"https://archive.ics.uci.edu/ml/machine-learning-databases/letter-recognition/letter-recognition.data\"\n",
    "df = pd.read_csv(url, header=None)"
   ]
  },
  {
   "cell_type": "code",
   "execution_count": 6,
   "id": "2710e0f3-e4cd-4784-a5a8-eaf4752fc289",
   "metadata": {},
   "outputs": [],
   "source": [
    "# Set column names\n",
    "df.columns = ['letter', 'xbox', 'ybox', 'width', 'height', 'onpix', 'xbar', 'ybar', 'x2bar', 'y2bar', 'xybar', 'x2ybar', 'xy2bar', 'xedge', 'xedgey', 'yedge', 'yedgex']"
   ]
  },
  {
   "cell_type": "code",
   "execution_count": 7,
   "id": "70804253-4b7e-420e-ba93-051b7b579ddf",
   "metadata": {},
   "outputs": [
    {
     "data": {
      "image/png": "[encoded data removed]",
      "text/plain": [
       "<Figure size 1000x600 with 1 Axes>"
      ]
     },
     "metadata": {},
     "output_type": "display_data"
    }
   ],
   "source": [
    "# Visualize letter distribution\n",
    "plt.figure(figsize=(10, 6))\n",
    "sns.countplot(x='letter', data=df)\n",
    "plt.title('Letter Distribution')\n",
    "plt.show()"
   ]
  },
  {
   "cell_type": "code",
   "execution_count": 8,
   "id": "44909871-a4a5-43da-a213-780803b6e8ab",
   "metadata": {},
   "outputs": [],
   "source": [
    "# Convert letters to numerical labels\n",
    "label_encoder = LabelEncoder()\n",
    "df['label'] = label_encoder.fit_transform(df['letter'])"
   ]
  },
  {
   "cell_type": "code",
   "execution_count": 9,
   "id": "96f65893-1e95-419f-80d7-17c34b806faf",
   "metadata": {},
   "outputs": [],
   "source": [
    "# Drop 'letter' column\n",
    "df.drop(columns=['letter'], inplace=True)"
   ]
  },
  {
   "cell_type": "code",
   "execution_count": 10,
   "id": "04172946-be2f-43ff-b7e8-82f26cbcd7ed",
   "metadata": {},
   "outputs": [],
   "source": [
    "# Splitting the data into features and target\n",
    "X = df.drop('label', axis=1)\n",
    "y = df['label']"
   ]
  },
  {
   "cell_type": "code",
   "execution_count": 11,
   "id": "790db5f2-1ba5-47fa-8ee0-b5b9374b50b5",
   "metadata": {},
   "outputs": [],
   "source": [
    "# Train-test split\n",
    "X_train, X_test, y_train, y_test = train_test_split(X, y, test_size=0.2, random_state=42)\n"
   ]
  },
  {
   "cell_type": "code",
   "execution_count": 12,
   "id": "e85363f8-4e82-4ffc-b58c-32cbe3627c87",
   "metadata": {},
   "outputs": [
    {
     "name": "stderr",
     "output_type": "stream",
     "text": [
      "2024-02-13 16:51:55.971739: I tensorflow/core/util/port.cc:110] oneDNN custom operations are on. You may see slightly different numerical results due to floating-point round-off errors from different computation orders. To turn them off, set the environment variable `TF_ENABLE_ONEDNN_OPTS=0`.\n",
      "2024-02-13 16:51:55.973137: I tensorflow/tsl/cuda/cudart_stub.cc:28] Could not find cuda drivers on your machine, GPU will not be used.\n",
      "2024-02-13 16:51:55.997465: I tensorflow/tsl/cuda/cudart_stub.cc:28] Could not find cuda drivers on your machine, GPU will not be used.\n",
      "2024-02-13 16:51:55.997794: I tensorflow/core/platform/cpu_feature_guard.cc:182] This TensorFlow binary is optimized to use available CPU instructions in performance-critical operations.\n",
      "To enable the following instructions: AVX2 AVX_VNNI FMA, in other operations, rebuild TensorFlow with the appropriate compiler flags.\n",
      "2024-02-13 16:51:56.389476: W tensorflow/compiler/tf2tensorrt/utils/py_utils.cc:38] TF-TRT Warning: Could not find TensorRT\n"
     ]
    },
    {
     "name": "stdout",
     "output_type": "stream",
     "text": [
      "Epoch 1/20\n"
     ]
    },
    {
     "name": "stderr",
     "output_type": "stream",
     "text": [
      "2024-02-13 16:51:56.808005: I tensorflow/compiler/xla/stream_executor/cuda/cuda_gpu_executor.cc:995] successful NUMA node read from SysFS had negative value (-1), but there must be at least one NUMA node, so returning NUMA node zero. See more at https://github.com/torvalds/linux/blob/v6.0/Documentation/ABI/testing/sysfs-bus-pci#L344-L355\n",
      "2024-02-13 16:51:56.812447: W tensorflow/core/common_runtime/gpu/gpu_device.cc:1960] Cannot dlopen some GPU libraries. Please make sure the missing libraries mentioned above are installed properly if you would like to use GPU. Follow the guide at https://www.tensorflow.org/install/gpu for how to download and setup the required libraries for your platform.\n",
      "Skipping registering GPU devices...\n"
     ]
    },
    {
     "name": "stdout",
     "output_type": "stream",
     "text": [
      "450/450 [==============================] - 1s 817us/step - loss: 1.7079 - accuracy: 0.5210 - val_loss: 1.1177 - val_accuracy: 0.6844\n",
      "Epoch 2/20\n",
      "450/450 [==============================] - 0s 529us/step - loss: 0.9348 - accuracy: 0.7356 - val_loss: 0.8231 - val_accuracy: 0.7706\n",
      "Epoch 3/20\n",
      "450/450 [==============================] - 0s 570us/step - loss: 0.7437 - accuracy: 0.7881 - val_loss: 0.6781 - val_accuracy: 0.8106\n",
      "Epoch 4/20\n",
      "450/450 [==============================] - 0s 764us/step - loss: 0.6430 - accuracy: 0.8099 - val_loss: 0.6139 - val_accuracy: 0.8181\n",
      "Epoch 5/20\n",
      "450/450 [==============================] - 0s 498us/step - loss: 0.5698 - accuracy: 0.8244 - val_loss: 0.5286 - val_accuracy: 0.8450\n",
      "Epoch 6/20\n",
      "450/450 [==============================] - 0s 896us/step - loss: 0.5115 - accuracy: 0.8456 - val_loss: 0.5304 - val_accuracy: 0.8338\n",
      "Epoch 7/20\n",
      "450/450 [==============================] - 0s 950us/step - loss: 0.4595 - accuracy: 0.8592 - val_loss: 0.4684 - val_accuracy: 0.8575\n",
      "Epoch 8/20\n",
      "450/450 [==============================] - 0s 648us/step - loss: 0.4203 - accuracy: 0.8694 - val_loss: 0.4186 - val_accuracy: 0.8744\n",
      "Epoch 9/20\n",
      "450/450 [==============================] - 0s 928us/step - loss: 0.3855 - accuracy: 0.8783 - val_loss: 0.3828 - val_accuracy: 0.8888\n",
      "Epoch 10/20\n",
      "450/450 [==============================] - 0s 712us/step - loss: 0.3524 - accuracy: 0.8893 - val_loss: 0.3938 - val_accuracy: 0.8763\n",
      "Epoch 11/20\n",
      "450/450 [==============================] - 0s 623us/step - loss: 0.3301 - accuracy: 0.8975 - val_loss: 0.3529 - val_accuracy: 0.9000\n",
      "Epoch 12/20\n",
      "450/450 [==============================] - 0s 800us/step - loss: 0.3111 - accuracy: 0.9031 - val_loss: 0.3200 - val_accuracy: 0.9087\n",
      "Epoch 13/20\n",
      "450/450 [==============================] - 0s 570us/step - loss: 0.2925 - accuracy: 0.9074 - val_loss: 0.3118 - val_accuracy: 0.9106\n",
      "Epoch 14/20\n",
      "450/450 [==============================] - 0s 658us/step - loss: 0.2749 - accuracy: 0.9136 - val_loss: 0.2980 - val_accuracy: 0.9181\n",
      "Epoch 15/20\n",
      "450/450 [==============================] - 0s 562us/step - loss: 0.2622 - accuracy: 0.9178 - val_loss: 0.2923 - val_accuracy: 0.9031\n",
      "Epoch 16/20\n",
      "450/450 [==============================] - 0s 516us/step - loss: 0.2447 - accuracy: 0.9214 - val_loss: 0.2736 - val_accuracy: 0.9137\n",
      "Epoch 17/20\n",
      "450/450 [==============================] - 0s 525us/step - loss: 0.2358 - accuracy: 0.9258 - val_loss: 0.3004 - val_accuracy: 0.9062\n",
      "Epoch 18/20\n",
      "450/450 [==============================] - 0s 1ms/step - loss: 0.2224 - accuracy: 0.9294 - val_loss: 0.2591 - val_accuracy: 0.9250\n",
      "Epoch 19/20\n",
      "450/450 [==============================] - 0s 495us/step - loss: 0.2123 - accuracy: 0.9310 - val_loss: 0.2964 - val_accuracy: 0.9087\n",
      "Epoch 20/20\n",
      "450/450 [==============================] - 0s 764us/step - loss: 0.2098 - accuracy: 0.9333 - val_loss: 0.2654 - val_accuracy: 0.9181\n"
     ]
    }
   ],
   "source": [
    "import tensorflow as tf\n",
    "from tensorflow.keras import layers, models\n",
    "\n",
    "# Define the model architecture\n",
    "model = models.Sequential([\n",
    "    layers.Dense(128, activation='relu', input_shape=(X_train.shape[1],)),\n",
    "    layers.Dense(64, activation='relu'),\n",
    "    layers.Dense(26, activation='softmax')  # 26 classes for 26 letters\n",
    "])\n",
    "\n",
    "# Compile the model\n",
    "model.compile(optimizer='adam', loss='sparse_categorical_crossentropy', metrics=['accuracy'])\n",
    "\n",
    "# Train the model\n",
    "history = model.fit(X_train, y_train, epochs=20, batch_size=32, validation_split=0.1)\n"
   ]
  },
  {
   "cell_type": "code",
   "execution_count": null,
   "id": "914de109-78e4-4751-906b-bed84e06a38c",
   "metadata": {},
   "outputs": [],
   "source": []
  }
 ],
 "metadata": {
  "kernelspec": {
   "display_name": "Python 3 (ipykernel)",
   "language": "python",
   "name": "python3"
  },
  "language_info": {
   "codemirror_mode": {
    "name": "ipython",
    "version": 3
   },
   "file_extension": ".py",
   "mimetype": "text/x-python",
   "name": "python",
   "nbconvert_exporter": "python",
   "pygments_lexer": "ipython3",
   "version": "3.8.10"
  }
 },
 "nbformat": 4,
 "nbformat_minor": 5
}
